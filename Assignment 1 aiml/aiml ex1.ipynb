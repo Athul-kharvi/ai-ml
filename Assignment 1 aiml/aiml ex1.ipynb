{
 "cells": [
  {
   "cell_type": "markdown",
   "metadata": {},
   "source": [
    "# 1) Show that a List in python can\n",
    "# • store elements of different types (integer, float, string, etc.)\n",
    "# • store duplicate elements"
   ]
  },
  {
   "cell_type": "code",
   "execution_count": 11,
   "metadata": {},
   "outputs": [
    {
     "name": "stdout",
     "output_type": "stream",
     "text": [
      "[1, 'A', 'String', 1.1, -2]\n"
     ]
    }
   ],
   "source": [
    "lst=[1,'A',\"String\",1.1,-2]\n",
    "print(lst)"
   ]
  },
  {
   "cell_type": "markdown",
   "metadata": {},
   "source": [
    "# 2) Check if an Element Exists in a List ( Note make use of ‘in’)"
   ]
  },
  {
   "cell_type": "code",
   "execution_count": 12,
   "metadata": {},
   "outputs": [
    {
     "name": "stdout",
     "output_type": "stream",
     "text": [
      "Enter a number:3\n",
      "Element present\n"
     ]
    }
   ],
   "source": [
    "num=[1,2,3,4,5]\n",
    "\n",
    "n=int(input(\"Enter a number:\"))\n",
    "\n",
    "if n in num:\n",
    "    print(\"Element present\")\n",
    "else:\n",
    "    print(\"Element not present\")"
   ]
  },
  {
   "cell_type": "code",
   "execution_count": 13,
   "metadata": {},
   "outputs": [
    {
     "name": "stdout",
     "output_type": "stream",
     "text": [
      "Enter a number:6\n",
      "Element not present\n"
     ]
    }
   ],
   "source": [
    "num=[1,2,3,4,5]\n",
    "n=int(input(\"Enter a number:\"))\n",
    "if n in num:\n",
    "    print(\"Element present\")\n",
    "else:\n",
    "    print(\"Element not present\")"
   ]
  },
  {
   "cell_type": "markdown",
   "metadata": {},
   "source": [
    "# 3) Find the length of the list."
   ]
  },
  {
   "cell_type": "code",
   "execution_count": 14,
   "metadata": {},
   "outputs": [
    {
     "name": "stdout",
     "output_type": "stream",
     "text": [
      "5\n"
     ]
    }
   ],
   "source": [
    "lst=[1.2,3,0,-4,'f']\n",
    "print(len(lst))"
   ]
  },
  {
   "cell_type": "markdown",
   "metadata": {},
   "source": [
    "# 4) Create a list with value n ** 2 where n is a number from 1 to 5"
   ]
  },
  {
   "cell_type": "code",
   "execution_count": 10,
   "metadata": {},
   "outputs": [
    {
     "name": "stdout",
     "output_type": "stream",
     "text": [
      "List of squares from 1 to 5:\n",
      "[1, 4, 9, 16, 25]\n"
     ]
    }
   ],
   "source": [
    "squares_list = []\n",
    "\n",
    "for n in range(1, 6):\n",
    "    squares_list.append(n ** 2)\n",
    "\n",
    "print(\"List of squares from 1 to 5:\")\n",
    "print(squares_list)"
   ]
  },
  {
   "cell_type": "markdown",
   "metadata": {},
   "source": [
    "# 5) Python program to print the elements of an array in reverse order"
   ]
  },
  {
   "cell_type": "code",
   "execution_count": 22,
   "metadata": {},
   "outputs": [
    {
     "name": "stdout",
     "output_type": "stream",
     "text": [
      "Elements of the array in reverse order:\n",
      "5\n",
      "4\n",
      "3\n",
      "2\n",
      "1\n"
     ]
    }
   ],
   "source": [
    "my_array = [1, 2, 3, 4, 5]\n",
    "\n",
    "print(\"Elements of the array in reverse order:\")\n",
    "reversed_array = my_array[::-1]\n",
    "for element in reversed_array:\n",
    "    print(element)"
   ]
  },
  {
   "cell_type": "markdown",
   "metadata": {},
   "source": [
    "# 7) Python program to sort the elements of an array in descending order"
   ]
  },
  {
   "cell_type": "code",
   "execution_count": 25,
   "metadata": {},
   "outputs": [
    {
     "name": "stdout",
     "output_type": "stream",
     "text": [
      "[7, 5, 4, 3, 1]\n"
     ]
    }
   ],
   "source": [
    "array=[1,4,5,7,3]\n",
    "array.sort(reverse=True)\n",
    "print(array)"
   ]
  },
  {
   "cell_type": "markdown",
   "metadata": {},
   "source": [
    "# 8) Compare 2 lists in python(use The cmp() function\n",
    "# • The set() function and == operator\n",
    "# • The sort() function and == operator)"
   ]
  },
  {
   "cell_type": "code",
   "execution_count": 29,
   "metadata": {},
   "outputs": [
    {
     "name": "stdout",
     "output_type": "stream",
     "text": [
      "[1, 1, 2, 3, 4, 5, 5]\n",
      "[1, 1, 2, 3, 4, 5, 5]\n",
      "Equal\n",
      "{1, 2, 3, 4, 5}\n",
      "{1, 2, 3, 4, 5}\n"
     ]
    }
   ],
   "source": [
    "list1=[2,3,4,5,5,1,1]\n",
    "list2=[2,3,4,5,5,1,1]\n",
    "(list1.sort(reverse=False))\n",
    "(list2.sort(reverse=False))\n",
    "print(list1)\n",
    "print(list2)\n",
    "if list1==list2:\n",
    "    print(\"Equal\")\n",
    "else:\n",
    "    print(\"Not equal\")\n",
    "n1=set(list1)\n",
    "n2=set(list2)\n",
    "print(n1)\n",
    "print(n2)"
   ]
  },
  {
   "cell_type": "code",
   "execution_count": 31,
   "metadata": {},
   "outputs": [
    {
     "name": "stdout",
     "output_type": "stream",
     "text": [
      "The lists are not equal\n"
     ]
    }
   ],
   "source": [
    "list1 = [1, 2, 3]\n",
    "list2 = [1, 2, 3, 4, 5]\n",
    "\n",
    "if set(list1) == set(list2):\n",
    "    print(\"The lists are equal\")\n",
    "else:\n",
    "    print(\"The lists are not equal\")"
   ]
  },
  {
   "cell_type": "markdown",
   "metadata": {},
   "source": [
    "# 9) Remove a specific item from a list by using the three methods remove(), pop(),\n",
    "# and clear()."
   ]
  },
  {
   "cell_type": "code",
   "execution_count": 32,
   "metadata": {},
   "outputs": [
    {
     "name": "stdout",
     "output_type": "stream",
     "text": [
      "['a', 2.2, 0]\n",
      "[]\n"
     ]
    }
   ],
   "source": [
    "lst=[1,'a',2.2,0,-9]\n",
    "lst.remove(1)\n",
    "lst.pop()\n",
    "print(lst)\n",
    "lst.clear()\n",
    "print(lst)"
   ]
  },
  {
   "cell_type": "markdown",
   "metadata": {},
   "source": [
    "# 10) Write a NumPy program to convert an integer array to a floating type.\n",
    "# ( x = np.asfarray(a))"
   ]
  },
  {
   "cell_type": "code",
   "execution_count": 33,
   "metadata": {},
   "outputs": [
    {
     "name": "stdout",
     "output_type": "stream",
     "text": [
      "[1 2 3]\n",
      "[1. 2. 3.]\n"
     ]
    }
   ],
   "source": [
    "import numpy as np\n",
    "arr=np.array([1,2,3])\n",
    "print(arr)\n",
    "x=np.asfarray(arr)\n",
    "print(x)"
   ]
  },
  {
   "cell_type": "markdown",
   "metadata": {},
   "source": [
    "# 11) Write a NumPy program to convert a list and tuple into arrays."
   ]
  },
  {
   "cell_type": "code",
   "execution_count": 35,
   "metadata": {},
   "outputs": [
    {
     "name": "stdout",
     "output_type": "stream",
     "text": [
      "[1.1 2.2 3.3]\n",
      "<class 'numpy.ndarray'>\n",
      "[1 2 3]\n"
     ]
    }
   ],
   "source": [
    "import numpy as np\n",
    "lst=[1.1,2.2,3.3]\n",
    "tple=(1,2,3)\n",
    "\n",
    "x=np.array(lst)\n",
    "y=np.array(tple)\n",
    "\n",
    "print(x)\n",
    "print(type(x))\n",
    "print(y)"
   ]
  },
  {
   "cell_type": "markdown",
   "metadata": {},
   "source": [
    "# 12) Write a NumPy program to convert a list and tuple into arrays.(np.asarray)"
   ]
  },
  {
   "cell_type": "code",
   "execution_count": 37,
   "metadata": {},
   "outputs": [
    {
     "name": "stdout",
     "output_type": "stream",
     "text": [
      "[1.1 2.2 3.3]\n",
      "<class 'numpy.ndarray'>\n",
      "[1 2 3]\n"
     ]
    }
   ],
   "source": [
    "import numpy as np\n",
    "lst=[1.1,2.2,3.3]\n",
    "tple=(1,2,3)\n",
    "\n",
    "x=np.asarray(lst)\n",
    "y=np.asarray(tple)\n",
    "\n",
    "print(x)\n",
    "print(type(x))\n",
    "print(y)"
   ]
  },
  {
   "cell_type": "code",
   "execution_count": null,
   "metadata": {},
   "outputs": [],
   "source": []
  }
 ],
 "metadata": {
  "kernelspec": {
   "display_name": "Python 3",
   "language": "python",
   "name": "python3"
  },
  "language_info": {
   "codemirror_mode": {
    "name": "ipython",
    "version": 3
   },
   "file_extension": ".py",
   "mimetype": "text/x-python",
   "name": "python",
   "nbconvert_exporter": "python",
   "pygments_lexer": "ipython3",
   "version": "3.7.6"
  }
 },
 "nbformat": 4,
 "nbformat_minor": 4
}
