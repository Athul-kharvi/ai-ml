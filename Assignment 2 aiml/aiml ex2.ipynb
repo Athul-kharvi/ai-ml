{
 "cells": [
  {
   "cell_type": "markdown",
   "metadata": {},
   "source": [
    "# 1. Python Program to Find LCM"
   ]
  },
  {
   "cell_type": "code",
   "execution_count": 6,
   "metadata": {},
   "outputs": [
    {
     "name": "stdin",
     "output_type": "stream",
     "text": [
      "Enter first number:  2\n",
      "Enter second number:  8\n"
     ]
    },
    {
     "name": "stdout",
     "output_type": "stream",
     "text": [
      "The LCM of 2 and 8 is 8\n"
     ]
    }
   ],
   "source": [
    "import math\n",
    "\n",
    "# Function to find the LCM of two numbers\n",
    "def find_lcm(x, y):\n",
    "    \n",
    "    # Calculate the product of the two numbers\n",
    "    product = x * y\n",
    "    \n",
    "    # Calculate the GCD of the two numbers using the math.gcd function\n",
    "    gcd = math.gcd(x, y)\n",
    "    \n",
    "    # Calculate the LCM using the formula LCM(x, y) = (x * y) / GCD(x, y)\n",
    "    lcm = product // gcd\n",
    "    \n",
    "    return lcm\n",
    "\n",
    "# Input two numbers from the user\n",
    "num1 = int(input(\"Enter first number: \"))\n",
    "num2 = int(input(\"Enter second number: \"))\n",
    "\n",
    "# Find and print the LCM\n",
    "lcm = find_lcm(num1, num2)\n",
    "print(f\"The LCM of {num1} and {num2} is {lcm}\")"
   ]
  },
  {
   "cell_type": "markdown",
   "metadata": {},
   "source": [
    "# 2. Python Program to Make a Simple Calculator"
   ]
  },
  {
   "cell_type": "code",
   "execution_count": 11,
   "metadata": {},
   "outputs": [
    {
     "name": "stdout",
     "output_type": "stream",
     "text": [
      "Select operation:\n",
      "1. Addition\n",
      "2. Subtraction\n",
      "3. Multiplication\n",
      "4. Division\n"
     ]
    },
    {
     "name": "stdin",
     "output_type": "stream",
     "text": [
      "Enter choice (1/2/3/4):  1\n",
      "Enter first number:  2\n",
      "Enter second number:  3\n"
     ]
    },
    {
     "name": "stdout",
     "output_type": "stream",
     "text": [
      "Result:  5.0\n"
     ]
    }
   ],
   "source": [
    "# Function to add two numbers\n",
    "def add(x, y):\n",
    "    return x + y\n",
    "\n",
    "# Function to subtract two numbers\n",
    "def subtract(x, y):\n",
    "    return x - y\n",
    "\n",
    "# Function to multiply two numbers\n",
    "def multiply(x, y):\n",
    "    return x * y\n",
    "\n",
    "# Function to divide two numbers\n",
    "def divide(x, y):\n",
    "    if y == 0:\n",
    "        return \"Cannot divide by zero\"\n",
    "    return x / y\n",
    "\n",
    "# Main function\n",
    "def main():\n",
    "    print(\"Select operation:\")\n",
    "    print(\"1. Addition\")\n",
    "    print(\"2. Subtraction\")\n",
    "    print(\"3. Multiplication\")\n",
    "    print(\"4. Division\")\n",
    "\n",
    "    choice = input(\"Enter choice (1/2/3/4): \")\n",
    "\n",
    "    num1 = float(input(\"Enter first number: \"))\n",
    "    num2 = float(input(\"Enter second number: \"))\n",
    "\n",
    "    if choice == '1':\n",
    "        result = add(num1, num2)\n",
    "        print(\"Result: \", result)\n",
    "        \n",
    "    elif choice == '2':\n",
    "        result = subtract(num1, num2)\n",
    "        print(\"Result: \", result)\n",
    "        \n",
    "    elif choice == '3':\n",
    "        result = multiply(num1, num2)\n",
    "        print(\"Result: \", result)\n",
    "        \n",
    "    elif choice == '4':\n",
    "        result = divide(num1, num2)\n",
    "        print(\"Result: \", result)\n",
    "    else:\n",
    "        print(\"Invalid input\")\n",
    "\n",
    "main()        "
   ]
  },
  {
   "cell_type": "markdown",
   "metadata": {},
   "source": [
    "# 3. Program to Merge Two Lists"
   ]
  },
  {
   "cell_type": "code",
   "execution_count": 44,
   "metadata": {},
   "outputs": [
    {
     "name": "stdout",
     "output_type": "stream",
     "text": [
      "Merged List: [1, 2, 3, 4, 5, 6, 7]\n"
     ]
    }
   ],
   "source": [
    "list1 = [1, 2, 3]\n",
    "list2 = [4, 5, 6, 7]\n",
    "\n",
    "merged_list = list1 + list2\n",
    "\n",
    "print(\"Merged List:\", merged_list)"
   ]
  },
  {
   "cell_type": "markdown",
   "metadata": {},
   "source": [
    "# 4. Demonstrate the difference between list and tuple"
   ]
  },
  {
   "cell_type": "code",
   "execution_count": 43,
   "metadata": {},
   "outputs": [
    {
     "name": "stdout",
     "output_type": "stream",
     "text": [
      "[1, 1.2, -3, 'a', 'ABC']\n",
      "(1, 2.2, -3, 'b', 'DEF')\n",
      "List is mutable\n",
      "Tuple is immutable\n"
     ]
    }
   ],
   "source": [
    "lst=[1,1.2,-3,'a',\"ABC\"]\n",
    "print(lst)\n",
    "\n",
    "tple=(1,2.2,-3,'b',\"DEF\")\n",
    "print(tple)\n",
    "\n",
    "lst.append(4)\n",
    "\n",
    "print(\"List is mutable\")\n",
    "print(\"Tuple is immutable\")"
   ]
  },
  {
   "cell_type": "markdown",
   "metadata": {},
   "source": [
    "# 5. Try the following on tuple"
   ]
  },
  {
   "cell_type": "code",
   "execution_count": 42,
   "metadata": {},
   "outputs": [
    {
     "name": "stdout",
     "output_type": "stream",
     "text": [
      "Length: 5\n",
      "Maximum: 50\n",
      "Minimum 10\n",
      "Sum: 150\n",
      "Sorted: [10, 20, 30, 40, 50]\n"
     ]
    }
   ],
   "source": [
    "tple=(30,10,20,40,50)\n",
    "\n",
    "print(\"Length:\",len(tple))\n",
    "\n",
    "print(\"Maximum:\",max(tple))\n",
    "\n",
    "print(\"Minimum\",min(tple))\n",
    "\n",
    "print(\"Sum:\",sum(tple))\n",
    "\n",
    "print(\"Sorted:\",sorted(tple))"
   ]
  },
  {
   "cell_type": "markdown",
   "metadata": {},
   "source": [
    "# 6. Demonstrate the following Conversion functions"
   ]
  },
  {
   "cell_type": "code",
   "execution_count": 29,
   "metadata": {},
   "outputs": [
    {
     "name": "stdout",
     "output_type": "stream",
     "text": [
      "Tuple: (1, 2, 3, 4, 5)\n",
      "List representation of tuple: [1, 2, 3, 4, 5]\n",
      "Tuple representation of List: (1, 2, 3, 4, 5)\n",
      "String representation of Tuple: (1, 2, 3, 4, 5)\n"
     ]
    }
   ],
   "source": [
    "# Create a tuple\n",
    "x = (1, 2, 3, 4, 5)\n",
    "\n",
    "# Print the original tuple\n",
    "print(\"Tuple:\", x)\n",
    "\n",
    "# Convert the tuple to a list\n",
    "x = list(x)\n",
    "print(\"List representation of tuple:\", x)\n",
    "\n",
    "# Convert the list back to a tuple\n",
    "x = tuple(x)\n",
    "print(\"Tuple representation of List:\", x)\n",
    "\n",
    "# Convert the tuple to a string representation\n",
    "s = str(x)\n",
    "print(\"String representation of Tuple:\", s)"
   ]
  },
  {
   "cell_type": "markdown",
   "metadata": {},
   "source": [
    "# 7. Demonstrate the following on dictionary"
   ]
  },
  {
   "cell_type": "code",
   "execution_count": 40,
   "metadata": {},
   "outputs": [
    {
     "name": "stdout",
     "output_type": "stream",
     "text": [
      "{'white': 1, 'black': 2, 'red': 3, 'blue': 4}\n",
      "{'white': None, 'black': None, 'red': None, 'blue': None}\n",
      "dict_keys(['white', 'black', 'red', 'blue'])\n",
      "dict_values([1, 2, 3, 4])\n",
      "3\n",
      "('blue', 4)\n",
      "{'white': 1, 'black': 2}\n"
     ]
    }
   ],
   "source": [
    "colors={\"white\":1,\"black\":2,\"red\":3,\"blue\":4}\n",
    "items=colors.copy()\n",
    "print(items)\n",
    "\n",
    "new_item=dict.fromkeys(items)\n",
    "print(new_item)\n",
    "\n",
    "key=colors.keys()\n",
    "print(key)\n",
    "\n",
    "value=colors.values()\n",
    "print(value)\n",
    "\n",
    "remove=colors.pop(\"red\")\n",
    "print(remove)\n",
    "\n",
    "remove2=colors.popitem()\n",
    "print(remove2)\n",
    "\n",
    "default=colors.setdefault('black')\n",
    "print(colors)\n",
    "\n",
    "update=colors.update({'black':0})"
   ]
  },
  {
   "cell_type": "markdown",
   "metadata": {},
   "source": [
    "# 8. Perform positive indexing, slicing, negative indexing on lists"
   ]
  },
  {
   "cell_type": "code",
   "execution_count": 45,
   "metadata": {},
   "outputs": [
    {
     "name": "stdout",
     "output_type": "stream",
     "text": [
      "B\n",
      "[9.9]\n",
      "[-5, 3, 'B', 9.9, 'A']\n"
     ]
    }
   ],
   "source": [
    "lst=['A',9.9,'B',3,-5]\n",
    "print(lst[2])\n",
    "print(lst[1:2:1])\n",
    "print(lst[::-1])"
   ]
  },
  {
   "cell_type": "code",
   "execution_count": null,
   "metadata": {},
   "outputs": [],
   "source": []
  }
 ],
 "metadata": {
  "kernelspec": {
   "display_name": "Python 3 (ipykernel)",
   "language": "python",
   "name": "python3"
  },
  "language_info": {
   "codemirror_mode": {
    "name": "ipython",
    "version": 3
   },
   "file_extension": ".py",
   "mimetype": "text/x-python",
   "name": "python",
   "nbconvert_exporter": "python",
   "pygments_lexer": "ipython3",
   "version": "3.11.5"
  }
 },
 "nbformat": 4,
 "nbformat_minor": 4
}
