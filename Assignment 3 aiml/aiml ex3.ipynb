{
 "cells": [
  {
   "cell_type": "markdown",
   "metadata": {},
   "source": [
    "# 1. Write a program that asks the user to input his name and print its initials. Assuming that the user always types first name, middle name and last name and does not include any unnecessary spaces.\n",
    "# For example, if the user enters Ajay Kumar Garg the program should display A. K. G."
   ]
  },
  {
   "cell_type": "code",
   "execution_count": 3,
   "metadata": {},
   "outputs": [
    {
     "name": "stdout",
     "output_type": "stream",
     "text": [
      "Enter your full name (first name, middle name, last name): Padubidri Sudhir Rao\n",
      "Initials: P. S. R.\n"
     ]
    }
   ],
   "source": [
    "# Ask the user to input their full name\n",
    "full_name = input(\"Enter your full name (first name, middle name, last name): \")\n",
    "\n",
    "# Split the full name into words\n",
    "name_parts = full_name.split()\n",
    "\n",
    "# Extract the first letter from each word and convert it to uppercase\n",
    "initials = [name[0].upper() for name in name_parts]\n",
    "\n",
    "# Join the initials with dots to form the result\n",
    "result = \". \".join(initials) + \".\"\n",
    "\n",
    "# Print the result\n",
    "print(\"Initials:\", result)"
   ]
  },
  {
   "cell_type": "markdown",
   "metadata": {},
   "source": [
    "# 2.      Write a program in python that accepts a string to setup a passwords. Your entered password must meet the following requirements:\n",
    "#         • The password must be at least eight characters long.\n",
    "#         • It must contain at least one uppercase letter.\n",
    "#         • It must contain at least one lowercase letter.\n",
    "#         • It must contain at least one numeric digit.\n",
    "#       Your program should should perform this validation."
   ]
  },
  {
   "cell_type": "code",
   "execution_count": 5,
   "metadata": {},
   "outputs": [
    {
     "name": "stdout",
     "output_type": "stream",
     "text": [
      "Enter a password: knganesha\n",
      "Password does not meet the criteria. Please try again.\n",
      "Enter a password: Knganesh123\n",
      "Password is valid.\n"
     ]
    }
   ],
   "source": [
    "# Function to validate a password\n",
    "def is_valid_password(password):\n",
    "    \n",
    "    # Check if the password is at least 8 characters long\n",
    "    if len(password) < 8:\n",
    "        return False\n",
    "\n",
    "    # Initialize flags for uppercase, lowercase, and digit presence\n",
    "    has_uppercase = False\n",
    "    has_lowercase = False\n",
    "    has_digit = False\n",
    "\n",
    "    # Check each character in the password\n",
    "    for char in password:\n",
    "        if char.isupper():\n",
    "            has_uppercase = True\n",
    "            \n",
    "        elif char.islower():\n",
    "            has_lowercase = True\n",
    "            \n",
    "        elif char.isdigit():\n",
    "            has_digit = True\n",
    "\n",
    "    # Check if all criteria are met\n",
    "    if has_uppercase and has_lowercase and has_digit:\n",
    "        return True\n",
    "    else:\n",
    "        return False\n",
    "\n",
    "# Main program\n",
    "while True:\n",
    "    password = input(\"Enter a password: \")\n",
    "\n",
    "    if is_valid_password(password):\n",
    "        print(\"Password is valid.\")\n",
    "        break\n",
    "    else:\n",
    "        print(\"Password does not meet the criteria. Please try again.\")\n"
   ]
  },
  {
   "cell_type": "markdown",
   "metadata": {},
   "source": [
    "# 3. Write a Python program that accepts a string from user. Your program should create and display a new string where the first and last characters have been exchanged."
   ]
  },
  {
   "cell_type": "code",
   "execution_count": 7,
   "metadata": {},
   "outputs": [
    {
     "name": "stdout",
     "output_type": "stream",
     "text": [
      "Enter a string: abcd\n",
      "String with first and last characters swapped: dbca\n"
     ]
    }
   ],
   "source": [
    "# Function to swap the first and last characters of a string\n",
    "def swap_first_and_last_characters(input_string):\n",
    "    \n",
    "    if len(input_string) < 2:\n",
    "        # Return the input string unchanged if it's too short\n",
    "        return input_string\n",
    "    else:\n",
    "        # Swap the first and last characters and concatenate with the middle characters\n",
    "        return input_string[-1] + input_string[1:-1] + input_string[0]\n",
    "\n",
    "# Get input from the user\n",
    "user_input = input(\"Enter a string: \")\n",
    "\n",
    "# Call the function to swap the characters\n",
    "result = swap_first_and_last_characters(user_input)\n",
    "\n",
    "# Print the result\n",
    "print(\"String with first and last characters swapped:\", result)"
   ]
  },
  {
   "cell_type": "markdown",
   "metadata": {},
   "source": [
    "# 4. Write a program that accepts a string from user. Your program should count and display number of vowels in that string."
   ]
  },
  {
   "cell_type": "code",
   "execution_count": 8,
   "metadata": {},
   "outputs": [
    {
     "name": "stdout",
     "output_type": "stream",
     "text": [
      "Enter a string: knganesha\n",
      "Number of vowels in the string: 3\n"
     ]
    }
   ],
   "source": [
    "# Function to count vowels in a string\n",
    "def count_vowels(input_string):\n",
    "    # Define a set of vowels\n",
    "    vowels = \"AEIOUaeiou\"\n",
    "\n",
    "    # Initialize a counter for vowels\n",
    "    vowel_count = 0\n",
    "\n",
    "    # Iterate through each character in the input string\n",
    "    for char in input_string:\n",
    "        if char in vowels:\n",
    "            vowel_count += 1\n",
    "\n",
    "    return vowel_count\n",
    "\n",
    "# Get input from the user\n",
    "user_input = input(\"Enter a string: \")\n",
    "\n",
    "# Call the function to count vowels\n",
    "vowel_count = count_vowels(user_input)\n",
    "\n",
    "# Print the result\n",
    "print(\"Number of vowels in the string:\", vowel_count)"
   ]
  },
  {
   "cell_type": "markdown",
   "metadata": {},
   "source": [
    "# 5.    Write a program that reads a string from keyboard and display:\n",
    "#       * The number of uppercase letters in the string\n",
    "#       * The number of lowercase letters in the string\n",
    "#       * The number of digits in the string\n"
   ]
  },
  {
   "cell_type": "code",
   "execution_count": 10,
   "metadata": {},
   "outputs": [
    {
     "name": "stdout",
     "output_type": "stream",
     "text": [
      "Enter a string: KNGanesha30\n",
      "Number of uppercase letters: 3\n",
      "Number of lowercase letters: 6\n",
      "Number of digits: 2\n"
     ]
    }
   ],
   "source": [
    "# Function to count uppercase letters, lowercase letters, and digits in a string\n",
    "def count_characters(input_string):\n",
    "    # Initialize counters\n",
    "    uppercase_count = 0\n",
    "    lowercase_count = 0\n",
    "    digit_count = 0\n",
    "\n",
    "    # Iterate through each character in the input string\n",
    "    for char in input_string:\n",
    "        if char.isupper():\n",
    "            uppercase_count += 1\n",
    "        elif char.islower():\n",
    "            lowercase_count += 1\n",
    "        elif char.isdigit():\n",
    "            digit_count += 1\n",
    "\n",
    "    return uppercase_count, lowercase_count, digit_count\n",
    "\n",
    "# Get input from the user\n",
    "user_input = input(\"Enter a string: \")\n",
    "\n",
    "# Call the function to count characters\n",
    "uppercase_count, lowercase_count, digit_count = count_characters(user_input)\n",
    "\n",
    "# Print the results\n",
    "print(\"Number of uppercase letters:\", uppercase_count)\n",
    "print(\"Number of lowercase letters:\", lowercase_count)\n",
    "print(\"Number of digits:\", digit_count)"
   ]
  },
  {
   "cell_type": "code",
   "execution_count": null,
   "metadata": {},
   "outputs": [],
   "source": []
  }
 ],
 "metadata": {
  "kernelspec": {
   "display_name": "Python 3",
   "language": "python",
   "name": "python3"
  },
  "language_info": {
   "codemirror_mode": {
    "name": "ipython",
    "version": 3
   },
   "file_extension": ".py",
   "mimetype": "text/x-python",
   "name": "python",
   "nbconvert_exporter": "python",
   "pygments_lexer": "ipython3",
   "version": "3.7.6"
  }
 },
 "nbformat": 4,
 "nbformat_minor": 4
}
